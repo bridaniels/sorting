{
 "cells": [
  {
   "cell_type": "markdown",
   "id": "9e463b97-3bc8-4fc7-ab06-e1c5227eebf7",
   "metadata": {},
   "source": [
    "# Insertion Sort\n",
    "---\n",
    "- keys: numbers to be sorted\n",
    "- input: array of `n` elements\n",
    "- satellite data: sort numbers often because they are keys associated with other data\n",
    "- record: a key and satellite data \n",
    "- When sorting: focus on keys, but also moves associated records (satellite data) with the key\n",
    "    - whole record moves"
   ]
  },
  {
   "cell_type": "markdown",
   "id": "581c2d1d-0ecb-40d4-9d05-f432331da94a",
   "metadata": {},
   "source": [
    "#### Insertion Sort: efficient algorithm for smaller arrays. Take `x` and compare to all elements in the array going from left to right and insert when criteria from algorithm is met. \n",
    "> Two Parameters:\n",
    "> - array `A` containing values to be sorted \n",
    "> - number `n` values of sort -> `A[1:n]`"
   ]
  },
  {
   "cell_type": "code",
   "execution_count": 9,
   "id": "2d3b31ea-257a-4e8e-9da0-45a8a71b8b1a",
   "metadata": {},
   "outputs": [
    {
     "data": {
      "text/plain": [
       "[0, 1, 2, 4, 5, 6, 6, 6, 7, 9]"
      ]
     },
     "execution_count": 9,
     "metadata": {},
     "output_type": "execute_result"
    }
   ],
   "source": [
    "# Insertion Sort\n",
    "array = [6,4,6,9,1,7,6,5,0,2]\n",
    "\n",
    "def insertion_sort(arr):\n",
    "    for i in range(0,len(arr)):\n",
    "        key = arr[i]\n",
    "        j = i-1\n",
    "        # while `j` within range and `arr[j] > arr[i]` -> swap places \n",
    "        while j >= 0 and arr[j] > key:\n",
    "            arr[j+1] = arr[j]\n",
    "            j = j-1\n",
    "        arr[j+1] = key\n",
    "    return arr\n",
    "\n",
    "insertion_sort(array)"
   ]
  },
  {
   "cell_type": "markdown",
   "id": "9cf4dd46-be56-4a2c-a567-b0494524f4a3",
   "metadata": {},
   "source": [
    "## Loop Invariants\n",
    "---\n",
    "- Help you understand why an algorithm is correct\n",
    "\n",
    "##### Show Three Things:\n",
    "> 1. **Initializtion:** true prior to first iteration of the loop\n",
    "> 2. **Maintenance:** true before each iteration of the loop\n",
    "> 3. **Termination:** loop terminates and the invariant (usually along with the reason the loop terminated) gives property that algorithm is correct "
   ]
  },
  {
   "cell_type": "code",
   "execution_count": null,
   "id": "d6f36fcc-2f03-4e8d-ae3a-ce0c59704195",
   "metadata": {},
   "outputs": [],
   "source": []
  }
 ],
 "metadata": {
  "kernelspec": {
   "display_name": "Python 3",
   "language": "python",
   "name": "python3"
  },
  "language_info": {
   "codemirror_mode": {
    "name": "ipython",
    "version": 3
   },
   "file_extension": ".py",
   "mimetype": "text/x-python",
   "name": "python",
   "nbconvert_exporter": "python",
   "pygments_lexer": "ipython3",
   "version": "3.8.8"
  }
 },
 "nbformat": 4,
 "nbformat_minor": 5
}
