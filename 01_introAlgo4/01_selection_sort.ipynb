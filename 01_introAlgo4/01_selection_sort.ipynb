{
 "cells": [
  {
   "cell_type": "markdown",
   "id": "16286d8b-2abd-4b8f-b473-f869dd0ceeb7",
   "metadata": {},
   "source": [
    "# **Selection Sort**\n",
    "---\n",
    "> - Sort `n` numbers stored in array `A[0:n-1]`\n",
    "> 1. Find smallest element of `A[0:n-1]` and replace it with element in `A[0]`\n",
    "> 2. Find smallest element of `A[1:n-1]` and replace it with element in `A[1]`\n",
    "> 3. Find smallest element of `A[2:n-1]` and replace it with element in `A[3]`...."
   ]
  },
  {
   "cell_type": "markdown",
   "id": "5fb86bc6-5cdf-4d24-8ca0-1c88e95a1b1a",
   "metadata": {},
   "source": [
    "# 2.2-2: Worst Case/Best Case Running Times\n",
    "---"
   ]
  },
  {
   "cell_type": "code",
   "execution_count": 12,
   "id": "c63eeedf-6bd3-4ca6-a280-0c46c2c27d5c",
   "metadata": {},
   "outputs": [
    {
     "name": "stdout",
     "output_type": "stream",
     "text": [
      "[2, 4, 12, 25, 33, 47, 56, 99]\n"
     ]
    }
   ],
   "source": [
    "# Best Case\n",
    "best_array = [0,2,6,11,15,24,36,68]\n",
    "# Worst Case\n",
    "worst_array = [99,56,47,33,25,12,2,4]\n",
    "\n",
    "def selection_sort(arr): \n",
    "    for i in range(len(arr)-1):\n",
    "        min_index = i \n",
    "        #print('Initial Element at index {}: {}'.format(i, arr[i]), end='\\n')\n",
    "        \n",
    "        for j in range(i+1,len(arr)):\n",
    "            #print('Initial Element at index {}: {}'.format(i,arr[min_index]), end='\\n')\n",
    "            #print('Element at Second Index {}: {}'.format(j,arr[j]), end='\\n')\n",
    "            if arr[min_index] > arr[j]:\n",
    "                min_index = j\n",
    "        \n",
    "        arr[i], arr[min_index] = arr[min_index], arr[i]\n",
    "        \n",
    "    return arr\n",
    "            \n",
    "            \n",
    "print(selection_sort(worst_array))\n",
    "# print(selection_sort(best_array))"
   ]
  },
  {
   "cell_type": "markdown",
   "id": "3fe3072b-9c09-424d-a0b7-61fffe719a69",
   "metadata": {},
   "source": [
    "#### Loop Invariant Maintained:\n",
    "- Initialization\n",
    "\n",
    "#### Time Complexity: O(n^2) \n",
    "- Two Nested Loops each running `n` times and performing `n` swaps "
   ]
  },
  {
   "cell_type": "code",
   "execution_count": null,
   "id": "75106aff-59de-4bb4-a15c-57a5cbdf74ca",
   "metadata": {},
   "outputs": [],
   "source": []
  }
 ],
 "metadata": {
  "kernelspec": {
   "display_name": "Python 3",
   "language": "python",
   "name": "python3"
  },
  "language_info": {
   "codemirror_mode": {
    "name": "ipython",
    "version": 3
   },
   "file_extension": ".py",
   "mimetype": "text/x-python",
   "name": "python",
   "nbconvert_exporter": "python",
   "pygments_lexer": "ipython3",
   "version": "3.8.8"
  }
 },
 "nbformat": 4,
 "nbformat_minor": 5
}
