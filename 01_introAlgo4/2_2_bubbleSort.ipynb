{
 "cells": [
  {
   "cell_type": "markdown",
   "id": "d1bebb92-23c2-4cac-9897-79a4d5aa56c7",
   "metadata": {},
   "source": [
    "# **2-2 Correctness of Bubblesort**\n",
    "--- \n",
    "- works by repeatedly swapping adjacent elements that are out of order \n",
    "- sorts array `A[1:n]`\n",
    "- moves largest elements out of the bubble"
   ]
  },
  {
   "cell_type": "code",
   "execution_count": 1,
   "id": "dd627f9d-d1e5-4a6a-9bae-af3d915b651b",
   "metadata": {},
   "outputs": [],
   "source": [
    "def bubbleSort(array):\n",
    "    n = len(array)-1 #-1 due to the plus one in the inner loop \n",
    "    \n",
    "    print('OG',n,array,end='\\n')\n",
    "    print(end='\\n')\n",
    "    \n",
    "    for i in range(n):\n",
    "        for j in range(0,n-i):\n",
    "            # if >= would run more times with swaps than without \n",
    "            # >= unneccessary, > still handles duplicates \n",
    "            if array[j] > array[j+1]: # +1 pushes out of 'bubble'\n",
    "                array[j], array[j+1] = array[j+1], array[j]\n",
    "                \n",
    "        print('iteration: {}, bubble: {}, {}'.format(i,j, array[:j]), end='\\n')\n",
    "        print('sorted: {}'.format(array[j+1:]), end='\\n')\n",
    "    print(end='\\n')\n",
    "    \n",
    "    return array "
   ]
  },
  {
   "cell_type": "code",
   "execution_count": 2,
   "id": "ea34684a-9e3b-4444-95c7-223e220a6863",
   "metadata": {},
   "outputs": [
    {
     "name": "stdout",
     "output_type": "stream",
     "text": [
      "OG 14 [23, 5, 4, 5, 85, 55, 44, 12, 36, 45, 8, 19, 6, 7, 14]\n",
      "\n",
      "iteration: 0, bubble: 13, [5, 4, 5, 23, 55, 44, 12, 36, 45, 8, 19, 6, 7]\n",
      "sorted: [85]\n",
      "iteration: 1, bubble: 12, [4, 5, 5, 23, 44, 12, 36, 45, 8, 19, 6, 7]\n",
      "sorted: [55, 85]\n",
      "iteration: 2, bubble: 11, [4, 5, 5, 23, 12, 36, 44, 8, 19, 6, 7]\n",
      "sorted: [45, 55, 85]\n",
      "iteration: 3, bubble: 10, [4, 5, 5, 12, 23, 36, 8, 19, 6, 7]\n",
      "sorted: [44, 45, 55, 85]\n",
      "iteration: 4, bubble: 9, [4, 5, 5, 12, 23, 8, 19, 6, 7]\n",
      "sorted: [36, 44, 45, 55, 85]\n",
      "iteration: 5, bubble: 8, [4, 5, 5, 12, 8, 19, 6, 7]\n",
      "sorted: [23, 36, 44, 45, 55, 85]\n",
      "iteration: 6, bubble: 7, [4, 5, 5, 8, 12, 6, 7]\n",
      "sorted: [19, 23, 36, 44, 45, 55, 85]\n",
      "iteration: 7, bubble: 6, [4, 5, 5, 8, 6, 7]\n",
      "sorted: [14, 19, 23, 36, 44, 45, 55, 85]\n",
      "iteration: 8, bubble: 5, [4, 5, 5, 6, 7]\n",
      "sorted: [12, 14, 19, 23, 36, 44, 45, 55, 85]\n",
      "iteration: 9, bubble: 4, [4, 5, 5, 6]\n",
      "sorted: [8, 12, 14, 19, 23, 36, 44, 45, 55, 85]\n",
      "iteration: 10, bubble: 3, [4, 5, 5]\n",
      "sorted: [7, 8, 12, 14, 19, 23, 36, 44, 45, 55, 85]\n",
      "iteration: 11, bubble: 2, [4, 5]\n",
      "sorted: [6, 7, 8, 12, 14, 19, 23, 36, 44, 45, 55, 85]\n",
      "iteration: 12, bubble: 1, [4]\n",
      "sorted: [5, 6, 7, 8, 12, 14, 19, 23, 36, 44, 45, 55, 85]\n",
      "iteration: 13, bubble: 0, []\n",
      "sorted: [5, 5, 6, 7, 8, 12, 14, 19, 23, 36, 44, 45, 55, 85]\n",
      "\n",
      "[4, 5, 5, 6, 7, 8, 12, 14, 19, 23, 36, 44, 45, 55, 85]\n",
      "[23, 5, 4, 5, 85, 55, 44, 12, 36, 45, 8, 19, 6, 7, 14]\n"
     ]
    }
   ],
   "source": [
    "array = [23,5,4,5,85,55,44,12,36,45,8,19,6,7,14]\n",
    "og_array = [23,5,4,5,85,55,44,12,36,45,8,19,6,7,14]\n",
    "b_sorted = bubbleSort(array)\n",
    "print(b_sorted)\n",
    "print(og_array)"
   ]
  },
  {
   "cell_type": "markdown",
   "id": "bef8368e-32c3-463c-90b4-3fc807549c55",
   "metadata": {},
   "source": [
    "### 2-2.a: Prove Bubblesort Terminates and That `A'[1] <= A'[2] <=...<=A'[n]` via Loop Invariant\n",
    "---"
   ]
  },
  {
   "cell_type": "markdown",
   "id": "b83e2155-1406-4176-aaf1-4ae2ee986d30",
   "metadata": {},
   "source": [
    "#### Loop Invariants: (mathematical induction)\n",
    "> At the end of `i` iterations the right most `i` elements are sorted and in place\n",
    "> 1. **Initialization:**\n",
    ">      - subarray `arr[n-i+1:]` contains sorted elements \n",
    ">      - in the beginning true because contains a single value\n",
    "> 2. **Maintenance:**\n",
    ">      - Outer Loop: \n",
    ">> - iterates through each index to keep *inner loop* within bounds \n",
    ">> - iteration maintains the loop invariant \n",
    ">      - Inner Loop:\n",
    ">> - always starting from index 0, moves largest values to the end of the list \n",
    ">> - only sorts one value at a time\n",
    ">> - compares the single value to every other value in the list to only grab largest\n",
    ">> - incrementing `i` in the outer loop maintains the loop invariant \n",
    "> 3. **Termination:**\n",
    ">      - Terminates when `j = n-i = 0` aka `j`'s value exceedes the array range \n",
    ">      - `j` no longer in range "
   ]
  },
  {
   "cell_type": "markdown",
   "id": "405d9eb7-fe1d-4d8e-aea8-010bd0e0da83",
   "metadata": {},
   "source": [
    "### 2-2.b: Loop Invariant for Inner Loop\n",
    "---"
   ]
  },
  {
   "cell_type": "markdown",
   "id": "8187fa88-0153-4c18-ae03-f2a2a403001f",
   "metadata": {},
   "source": [
    "#### Loop Invariants: Inner Loop\n",
    "> 1. **Initialization:**\n",
    ">      - subarray `arr[:j]` contains max value for `arr[j+1]`\n",
    ">      - subarray `arr[j+1:]` is sorted and in place \n",
    "> 2. **Maintenance:**\n",
    ">      -  keep largest value from subarray `arr[:j]` at `arr[j+1]`\n",
    "> 3. **Termination:**\n",
    ">      -  `arr[:n-i]` becomes empty as `n-i` exceedes range of array "
   ]
  },
  {
   "cell_type": "markdown",
   "id": "3da19236-cc3e-460f-a212-0143a1d1a15f",
   "metadata": {},
   "source": [
    "### 2-2.c: Loop Invariant for Termination and Proof of Inequality \n",
    "---"
   ]
  },
  {
   "cell_type": "markdown",
   "id": "9e64d15d-0196-42a8-b52b-1e1547a220ba",
   "metadata": {},
   "source": [
    "#### Loop Invariants: Termination and Inequality \n",
    "> `arr[1] <= arr[2] <= arr[3]... <= arr[n]`\n",
    "> 1. **Initialization:**\n",
    ">      - `arr[n-i+1:]` contains the sorted numbers \n",
    "> 2. **Maintenance:**\n",
    ">      - for each iteration of `i`, largest values from subarray `arr[:n-i]` are at `arr[n-i+1]`\n",
    ">      - compares each number to every number within the *bubble* and pushes the greatest out \n",
    ">      - each iteration of `i` shrinks the bubble of unsorted numbers \n",
    "> 3. **Termination:**\n",
    ">      -  `arr[:n-i]` becomes empty as `n-i` exceedes range of array "
   ]
  },
  {
   "cell_type": "markdown",
   "id": "cce568dc-39bc-48f5-b6fb-48efff356e07",
   "metadata": {},
   "source": [
    "### 2.2.d: Worst-Case Running Time \n",
    "---"
   ]
  },
  {
   "cell_type": "markdown",
   "id": "74bd6a95-c860-4e07-a494-26788f21cbb1",
   "metadata": {},
   "source": [
    "- Time Complexity: `O(n^2)` \n",
    "    - outer loop: `O(n)` iterates once over every item in array \n",
    "    - inner loop: `O(n)` iterates `i` over every value from `n-i`\n",
    "    - `(n-i)*(n/2)` = `O(n^2)`"
   ]
  },
  {
   "cell_type": "code",
   "execution_count": null,
   "id": "7da3969a-279d-4afb-abca-eec4499b1dc0",
   "metadata": {},
   "outputs": [],
   "source": []
  }
 ],
 "metadata": {
  "kernelspec": {
   "display_name": "Python 3",
   "language": "python",
   "name": "python3"
  },
  "language_info": {
   "codemirror_mode": {
    "name": "ipython",
    "version": 3
   },
   "file_extension": ".py",
   "mimetype": "text/x-python",
   "name": "python",
   "nbconvert_exporter": "python",
   "pygments_lexer": "ipython3",
   "version": "3.8.8"
  }
 },
 "nbformat": 4,
 "nbformat_minor": 5
}
