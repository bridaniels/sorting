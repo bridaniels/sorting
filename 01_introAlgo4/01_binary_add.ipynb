{
 "cells": [
  {
   "cell_type": "markdown",
   "id": "c0c0d4fd-7402-4758-ac33-198e26cd5123",
   "metadata": {},
   "source": [
    "## 2.1-5: Add Binary Integers\n",
    "---\n",
    "- Adding Two *n-bit* Binary Integers Stored in *n-element* arrays\n",
    "- sum `c = a + b` of the two integers should be stored in binary form in an `(n+1)` element array"
   ]
  },
  {
   "cell_type": "code",
   "execution_count": 1,
   "id": "1d177908-f083-4b5e-8498-17b98fac1c13",
   "metadata": {},
   "outputs": [],
   "source": [
    "n = 6"
   ]
  },
  {
   "cell_type": "code",
   "execution_count": 2,
   "id": "3cc8091d-be6c-4010-b14c-5ca5ecddd269",
   "metadata": {},
   "outputs": [
    {
     "name": "stdout",
     "output_type": "stream",
     "text": [
      "randintA:  [0, 1, 0, 0, 1, 1]\n",
      "randintB:  [0, 0, 1, 0, 0, 1]\n"
     ]
    }
   ],
   "source": [
    "# Create Random Bit Arrays\n",
    "from random import randint\n",
    "\n",
    "def add_binary_integers(n):\n",
    "    A = [0]*n\n",
    "    B = [0]*n\n",
    "    \n",
    "    for i in range(0,n):\n",
    "        A[i] = randint(0,1)\n",
    "        B[i] = randint(0,1)\n",
    "        \n",
    "    return A, B\n",
    "\n",
    "randA, randB = add_binary_integers(n)\n",
    "\n",
    "print('randintA: ', randA, end='\\n')\n",
    "print('randintB: ', randB, end='\\n')"
   ]
  },
  {
   "cell_type": "code",
   "execution_count": 3,
   "id": "d0299259-508f-4276-8b74-42cdcfbffa0c",
   "metadata": {},
   "outputs": [
    {
     "name": "stdout",
     "output_type": "stream",
     "text": [
      "starting remainder: 0 at index: 5\n",
      "A remainder: 1 at index: 5\n",
      "B remainder: 2 at index: 5\n",
      "result from remainder: 0\n",
      "carry before continue on: 1\n",
      "starting remainder: 1 at index: 4\n",
      "A remainder: 2 at index: 4\n",
      "B remainder: 2 at index: 4\n",
      "result from remainder: 0\n",
      "carry before continue on: 1\n",
      "starting remainder: 1 at index: 3\n",
      "A remainder: 1 at index: 3\n",
      "B remainder: 1 at index: 3\n",
      "result from remainder: 0\n",
      "carry before continue on: 0\n",
      "starting remainder: 0 at index: 2\n",
      "A remainder: 0 at index: 2\n",
      "B remainder: 1 at index: 2\n",
      "result from remainder: 0\n",
      "carry before continue on: 0\n",
      "starting remainder: 0 at index: 1\n",
      "A remainder: 1 at index: 1\n",
      "B remainder: 1 at index: 1\n",
      "result from remainder: 0\n",
      "carry before continue on: 0\n",
      "starting remainder: 0 at index: 0\n",
      "A remainder: 0 at index: 0\n",
      "B remainder: 0 at index: 0\n",
      "result from remainder: 0\n",
      "carry before continue on: 0\n"
     ]
    },
    {
     "data": {
      "text/plain": [
       "[0, 1, 1, 1, 0, 0, 0]"
      ]
     },
     "execution_count": 3,
     "metadata": {},
     "output_type": "execute_result"
    }
   ],
   "source": [
    "def addition(a,b,n):\n",
    "    carry = 0\n",
    "    res = 0 \n",
    "    answer = [0]*(n+1)\n",
    "    \n",
    "    for i in range(n-1, -1, -1):\n",
    "        remainder = carry\n",
    "        print('starting remainder: {} at index: {}'.format(remainder,i), end='\\n')\n",
    "        remainder += 1 if a[i] == 1 else 0 \n",
    "        print('A remainder: {} at index: {}'.format(remainder,i), end='\\n')\n",
    "        remainder += 1 if b[i] == 1 else 0 \n",
    "        print('B remainder: {} at index: {}'.format(remainder,i), end='\\n')\n",
    "        \n",
    "        answer[i] = 1 if remainder % 2 == 1 else 0\n",
    "        print('result from remainder: {}'.format(res), end='\\n')\n",
    "        carry = 0 if remainder < 2 else 1\n",
    "        print('carry before continue on: {}'.format(carry), end='\\n')\n",
    "    \n",
    "    if carry != 0:\n",
    "        answer[i] = 1 \n",
    "    \n",
    "    return answer\n",
    "\n",
    "addition(randA, randB, n)"
   ]
  },
  {
   "cell_type": "code",
   "execution_count": 4,
   "id": "30ff09be-a521-40f9-9cb7-7bcd7008d0df",
   "metadata": {},
   "outputs": [
    {
     "name": "stdout",
     "output_type": "stream",
     "text": [
      "010011\n",
      "001001\n",
      "------\n",
      "11100\n"
     ]
    }
   ],
   "source": [
    "randya = ''.join(str(x) for x in randA)\n",
    "randyb = ''.join(str(x) for x in randB)\n",
    "\n",
    "pythonic = bin(int(randya,2) + int(randyb,2))\n",
    "\n",
    "print(randya)\n",
    "print(randyb)\n",
    "print('------')\n",
    "print(pythonic[2:])"
   ]
  },
  {
   "cell_type": "code",
   "execution_count": null,
   "id": "79c96896-957c-4270-b76d-bc4cb1272c31",
   "metadata": {},
   "outputs": [],
   "source": []
  }
 ],
 "metadata": {
  "kernelspec": {
   "display_name": "Python 3",
   "language": "python",
   "name": "python3"
  },
  "language_info": {
   "codemirror_mode": {
    "name": "ipython",
    "version": 3
   },
   "file_extension": ".py",
   "mimetype": "text/x-python",
   "name": "python",
   "nbconvert_exporter": "python",
   "pygments_lexer": "ipython3",
   "version": "3.8.8"
  }
 },
 "nbformat": 4,
 "nbformat_minor": 5
}
