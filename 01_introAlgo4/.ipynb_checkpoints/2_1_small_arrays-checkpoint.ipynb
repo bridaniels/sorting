{
 "cells": [
  {
   "cell_type": "markdown",
   "id": "08241e87-6ebf-413d-b48e-52e313647607",
   "metadata": {},
   "source": [
    "# **2-1 Insertion Sort on Small Arrays in Merge Sort**\n",
    "---"
   ]
  },
  {
   "cell_type": "markdown",
   "id": "a8232049-ad59-4dad-ae35-9a6ea001a36d",
   "metadata": {},
   "source": [
    "- Merge Sort runs `O(n lg n)` time\n",
    "- Insertion Sort runs `O(n^2)` time\n",
    "    - can be faster for smaller arrays"
   ]
  },
  {
   "cell_type": "markdown",
   "id": "0365021f-8696-4516-9c18-1083dc474ffe",
   "metadata": {},
   "source": [
    "#### Coarsen leaves of recursion via **Insertion Sort** wihtin **Merge Sort** when subproblems become small "
   ]
  },
  {
   "cell_type": "markdown",
   "id": "0fcd0442-c585-44f4-8c9c-b58b22bbad0f",
   "metadata": {},
   "source": [
    "### 2-1.a: Show that insertion sort can sort the `n/k` sublists, each of length `k`, in `O(nk)` worst time\n",
    "---\n",
    "- Insertion Sort Worst-Case Runtime = `ak^2 + bk + c` for constants `a`, `b`, and `c`\n",
    "- we have `n/k` of each list with Insertion Sort Worst-Case Runtime\n",
    "    - `(n/k)*(ak^2 + bk + c)  =   ank + bn + (cn/k)   =   O(nk)`"
   ]
  },
  {
   "cell_type": "markdown",
   "id": "089c7a5a-0e36-4ff8-8646-7542ed304faa",
   "metadata": {},
   "source": [
    "### 2-1.b: Show how to merge sublists in `O(n lg(n/k))` Worst-Case Time\n",
    "---\n",
    "- sorting `b` sublists of length `k` takes: \n",
    "\n",
    "> - `T(b) = 0               if b = 1`\n",
    "> - `T(b) = 2T(b/2) + bk    if b=2^p, if p>0`\n",
    "\n",
    "- merging one sublist is trivial \n",
    "- merging `b` sublists -> divide and conquer -> dividing into groups of `b/2` lists \n",
    "- merge each group recursively \n",
    "- combine results in `bk` steps (2 arrays each length `(b/2)k`"
   ]
  },
  {
   "cell_type": "markdown",
   "id": "a0a0a8da-0582-4a6f-98fe-b97f8c58add5",
   "metadata": {},
   "source": [
    "##### Induction: \n",
    "- Base Case: `b=1`\n",
    "\n",
    "> - `T(1) = 1*k*log1 = k*0 = 0`\n",
    "> - `log1 = 0`\n",
    "\n",
    "- Assume `T(s) = b*k*log*b` and calculate `T(2b)`:\n",
    "\n",
    "> - `T(a) = 2T(a/2) + ak` worst case for mergesort recurrence\n",
    "> - `T(2b) = 2T(2b/2) + 2bk = 2(T(b) + bk)` simplify `2b/2` and pull the `2` out \n",
    "> - `T(a) = a*k*loga` assume insertsort  \n",
    "> - `T(2b) = 2(b*k*logb + bk)` fill in insertion sort within mergesort\n",
    "> - `T(2b) = 2bk(logb + 1)` pull `bk` out \n",
    "> - `T(2b) = 2bk(logb + log2)` remove log from (), `log2 = 1`\n",
    "> - `T(2b) = 2bk*log(2b)`\n",
    "\n",
    "- Substitute number of sublists `n/k` for `b`:\n",
    "\n",
    "> - `T(n/k) = (n/k)k * log(n/k)`\n",
    "> - `T(n/k) = n log(n/k)`\n",
    "> - Only exact when `n/k` is a power of `2`, but overall time complexity of the merge is `O(nlg(n/k))`\n"
   ]
  },
  {
   "cell_type": "markdown",
   "id": "d85834d0-9c13-4c53-9129-e5dfe9aa5082",
   "metadata": {},
   "source": [
    "### 2-1.c: Modified Algorithm Runs in `O(nk + n log(n/k))` Worst-Case Time -> largest value of `k` as a function of `n` where the modfied has same runtime as merge sort\n",
    "---"
   ]
  },
  {
   "cell_type": "markdown",
   "id": "c6ff1476-bc8d-43e6-ba7a-ff0e5afcf4c6",
   "metadata": {},
   "source": [
    "- largest value is `k = logn`\n",
    "\n",
    "> - `O(nk)` = insertion sort within merge sort\n",
    "> - `O(n log(n/k))` = merge function  \n",
    "> - `O(n(logn) + nlog(n/logn))` add runtimes and fill in `k = logn`\n",
    ">> - `n*(log(n/logn)) = n*(logn - log(logn))` will turn into a constant so eliminated \n",
    "\n",
    "- if `k = f(n) > logn` the complexity will be `O(n(f(n))` which is a larger runtime than merge sort \n",
    "- `O(n^2)` = normal insertion sort and `O(n/k)` for combined merge/insertion sort \n",
    "- `O(n log n)` = merge sort\n",
    "- `O(nk + n log n)` insertion sort within merge sort \n",
    "- If `k` is larger than `log n` then `O(n logn)` will be the worst case for the insertion sort within the merge sort "
   ]
  },
  {
   "cell_type": "markdown",
   "id": "25f6b7ff-5a5d-4c83-b8c8-06a0a406b8c6",
   "metadata": {},
   "source": [
    "### 2-1.d: How shoudl you choose k in practice?\n",
    "---\n",
    "- `k` should be the largest list length of which insertion sort is faster than merge sort "
   ]
  },
  {
   "cell_type": "code",
   "execution_count": null,
   "id": "b915d4de-1fd0-40e2-945b-f0677a6547e1",
   "metadata": {},
   "outputs": [],
   "source": []
  }
 ],
 "metadata": {
  "kernelspec": {
   "display_name": "Python 3",
   "language": "python",
   "name": "python3"
  },
  "language_info": {
   "codemirror_mode": {
    "name": "ipython",
    "version": 3
   },
   "file_extension": ".py",
   "mimetype": "text/x-python",
   "name": "python",
   "nbconvert_exporter": "python",
   "pygments_lexer": "ipython3",
   "version": "3.8.8"
  }
 },
 "nbformat": 4,
 "nbformat_minor": 5
}
