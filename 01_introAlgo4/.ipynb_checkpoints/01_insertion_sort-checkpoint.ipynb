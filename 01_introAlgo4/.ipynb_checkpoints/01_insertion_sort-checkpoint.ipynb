{
 "cells": [
  {
   "cell_type": "markdown",
   "id": "9e463b97-3bc8-4fc7-ab06-e1c5227eebf7",
   "metadata": {},
   "source": [
    "# Insertion Sort\n",
    "---\n",
    "- keys: numbers to be sorted\n",
    "- input: array of `n` elements\n",
    "- satellite data: sort numbers often because they are keys associated with other data\n",
    "- record: a key and satellite data \n",
    "- When sorting: focus on keys, but also moves associated records (satellite data) with the key\n",
    "    - whole record moves"
   ]
  },
  {
   "cell_type": "markdown",
   "id": "581c2d1d-0ecb-40d4-9d05-f432331da94a",
   "metadata": {},
   "source": [
    "#### Insertion Sort: efficient algorithm for smaller arrays. Take `x` and compare to all elements in the array going from left to right and insert when criteria from algorithm is met. \n",
    "> Two Parameters:\n",
    "> - array `A` containing values to be sorted \n",
    "> - number `n` values of sort -> `A[1:n]`"
   ]
  },
  {
   "cell_type": "code",
   "execution_count": 1,
   "id": "2d3b31ea-257a-4e8e-9da0-45a8a71b8b1a",
   "metadata": {},
   "outputs": [
    {
     "data": {
      "text/plain": [
       "[0, 1, 2, 4, 5, 6, 6, 6, 7, 9]"
      ]
     },
     "execution_count": 1,
     "metadata": {},
     "output_type": "execute_result"
    }
   ],
   "source": [
    "# Insertion Sort\n",
    "array = [6,4,6,9,1,7,6,5,0,2]\n",
    "\n",
    "def insertion_sort(arr):\n",
    "    for i in range(1,len(arr)):\n",
    "        key = arr[i]\n",
    "        j = i-1\n",
    "        # while `j` within range and `arr[j] > arr[i]` -> swap places \n",
    "        while j >= 0 and arr[j] > key:\n",
    "            # not `i` because this filters through list further\n",
    "            arr[j+1] = arr[j]\n",
    "            j = j-1\n",
    "        arr[j+1] = key\n",
    "    return arr\n",
    "\n",
    "insertion_sort(array)"
   ]
  },
  {
   "cell_type": "markdown",
   "id": "9cf4dd46-be56-4a2c-a567-b0494524f4a3",
   "metadata": {},
   "source": [
    "## Loop Invariants\n",
    "---\n",
    "- Help you understand why an algorithm is correct\n",
    "- Form of Mathematical Induction\n",
    "\n",
    "##### Show Three Things:\n",
    "> 1. **Initializtion:** true prior to first iteration of the loop (base case)\n",
    ">      - subarray `arr[0:i-1]` is only `arr[i]` which is first element in the array \n",
    ">      - subarray is sorted because single value \n",
    "> 2. **Maintenance:** true before each iteration of the loop (inductive step)\n",
    ">      - maintains loop invariant \n",
    ">      - moves values `arr[i-1],arr[i-2],arr[i-3]` by one position to the right until finds proper position \n",
    ">      - finds correct position for `arr[i]` and inserts value \n",
    ">      - incrementing `i` for the next iteration preserves loop invariant \n",
    ">      - technically should also show a loop invariant for the `while` loop\n",
    "> 3. **Termination:** loop terminates and the invariant (usually along with the reason the loop terminated) gives property that algorithm is correct (induction stops when loop terminates)\n",
    ">      - `i`'s value exceedes range the loop terminates: `i = n+1`\n",
    ">      - subbing `n+1` for `i` in loop invariant yields subarray `arr[1:n]` which consists of elements in original array, just now in a sorted order "
   ]
  },
  {
   "cell_type": "markdown",
   "id": "29e7ea11-2068-42b4-96bb-ee136961177c",
   "metadata": {},
   "source": [
    "## Short Circuiting\n",
    "---\n",
    "- boolean operators `and` and `or`\n",
    "\n",
    "##### `and`\n",
    "> - evaluates `x and y` by first evaluating `x`\n",
    "> - if `x` is `TRUE`, `y` is evaluated\n",
    "> - if `x` is `FALSE`, `y` is not evaluated\n",
    "\n",
    "##### `x or y`\n",
    "> - `y` is evaluated only if `x` is `FALSE`"
   ]
  },
  {
   "cell_type": "markdown",
   "id": "420fb263-6fd2-4bae-b657-6f766f933972",
   "metadata": {},
   "source": [
    "## 2.1-1: Sum Array and Insertion Sort\n",
    "---"
   ]
  },
  {
   "cell_type": "code",
   "execution_count": 2,
   "id": "d56a1438-0a24-455b-a7f0-83bc501a80d6",
   "metadata": {},
   "outputs": [
    {
     "data": {
      "text/plain": [
       "256"
      ]
     },
     "execution_count": 2,
     "metadata": {},
     "output_type": "execute_result"
    }
   ],
   "source": [
    "array = [31,41,59,26,41,58]\n",
    "\n",
    "def sum_array(arr):\n",
    "    sum = 0 \n",
    "    for i in range(0,len(arr)):\n",
    "        sum = sum + arr[i]\n",
    "    return sum\n",
    "\n",
    "sum_array(array)"
   ]
  },
  {
   "cell_type": "code",
   "execution_count": 3,
   "id": "148045d1-5687-4608-b0ec-92cfb6a1105a",
   "metadata": {},
   "outputs": [
    {
     "data": {
      "text/plain": [
       "[26, 31, 41, 41, 58, 59]"
      ]
     },
     "execution_count": 3,
     "metadata": {},
     "output_type": "execute_result"
    }
   ],
   "source": [
    "array = [31,41,59,26,41,58]\n",
    "\n",
    "def insert_sort(arr):\n",
    "    for i in range(1,len(arr)):\n",
    "        k = arr[i]\n",
    "        j = i-1\n",
    "        while j >= 0 and arr[j] > k:\n",
    "            arr[j+1] = arr[j]\n",
    "            j = j-1\n",
    "        arr[j+1] = k\n",
    "    return arr\n",
    "\n",
    "insert_sort(array)"
   ]
  },
  {
   "cell_type": "markdown",
   "id": "74219d1f-39d3-482d-8f9e-7a84dea83999",
   "metadata": {},
   "source": [
    "## 2.1-2: State Loop Invariant for Sum Array\n",
    "---"
   ]
  },
  {
   "cell_type": "code",
   "execution_count": 4,
   "id": "cd5d8b81-ab5d-46e7-b77a-9411d536d12e",
   "metadata": {},
   "outputs": [
    {
     "name": "stdout",
     "output_type": "stream",
     "text": [
      "Initialization: 31\n",
      "Maintenance Array:  [31]\n",
      "Maintenance Sum:  31\n",
      "Maintenance Array:  [31, 41]\n",
      "Maintenance Sum:  72\n",
      "Maintenance Array:  [31, 41, 59]\n",
      "Maintenance Sum:  131\n",
      "Maintenance Array:  [31, 41, 59, 26]\n",
      "Maintenance Sum:  157\n",
      "Maintenance Array:  [31, 41, 59, 26, 41]\n",
      "Maintenance Sum:  198\n",
      "Maintenance Array:  [31, 41, 59, 26, 41, 58]\n",
      "Maintenance Sum:  256\n",
      "Length of Array: 6\n",
      "Terminated at 0-Index: 5\n"
     ]
    }
   ],
   "source": [
    "array = [31,41,59,26,41,58]\n",
    "\n",
    "def loop_invariant(arr):\n",
    "    sum = 0\n",
    "    print('Initialization: {}'.format(arr[0]), end='\\n')\n",
    "    for i in range(len(arr)):\n",
    "        sum = sum + arr[i]\n",
    "        print('Maintenance Array: ', arr[0:i+1], end='\\n')\n",
    "        print('Maintenance Sum: ', sum, end = '\\n')\n",
    "\n",
    "    print('Length of Array: {}'.format(len(arr)), end='\\n')\n",
    "    print('Terminated at 0-Index: {}'.format(i), end='\\n')\n",
    "\n",
    "loop_invariant(array)"
   ]
  },
  {
   "cell_type": "markdown",
   "id": "9dd6e2d6-a8e9-4085-9662-b7c27da047c7",
   "metadata": {},
   "source": [
    "## 2.1-3: Decreasing Order Insertion Sort\n",
    "---"
   ]
  },
  {
   "cell_type": "code",
   "execution_count": 5,
   "id": "94913fdd-24d4-44a0-b07f-c70cd23fe51d",
   "metadata": {},
   "outputs": [
    {
     "data": {
      "text/plain": [
       "[59, 58, 41, 41, 31, 26]"
      ]
     },
     "execution_count": 5,
     "metadata": {},
     "output_type": "execute_result"
    }
   ],
   "source": [
    "array = [31,41,59,26,41,58]\n",
    "\n",
    "def decrease_insertion(arr):\n",
    "    for i in range(0,len(arr)):\n",
    "        k = arr[i]\n",
    "        j = i - 1\n",
    "        while j >= 0 and arr[j] < k:\n",
    "            arr[j+1] = arr[j]\n",
    "            j = j - 1\n",
    "        arr[j+1] = k\n",
    "    return arr\n",
    "\n",
    "decrease_insertion(array)"
   ]
  },
  {
   "cell_type": "markdown",
   "id": "2ac13bf3-bed0-4bfc-8560-80d2da99ca54",
   "metadata": {},
   "source": [
    "## 2.1-4: Linear Search \n",
    "---"
   ]
  },
  {
   "cell_type": "code",
   "execution_count": 6,
   "id": "c0d0f61c-3c13-41d3-8223-092c23705b98",
   "metadata": {},
   "outputs": [
    {
     "name": "stdout",
     "output_type": "stream",
     "text": [
      "Initialization at X:  99\n",
      "Maintenance at arr[0] = 31 =! x = 99\n",
      "Maintenance at arr[1] = 41 =! x = 99\n",
      "Maintenance at arr[2] = 59 =! x = 99\n",
      "Maintenance at arr[3] = 26 =! x = 99\n",
      "Maintenance at arr[4] = 41 =! x = 99\n",
      "Maintenance at arr[5] = 58 =! x = 99\n",
      "No Values = target x\n"
     ]
    },
    {
     "data": {
      "text/plain": [
       "False"
      ]
     },
     "execution_count": 6,
     "metadata": {},
     "output_type": "execute_result"
    }
   ],
   "source": [
    "array = [31,41,59,26,41,58]\n",
    "x = 41\n",
    "y = 99\n",
    "\n",
    "def linear_search(arr, x):\n",
    "    print('Initialization at X: ', x, end='\\n')\n",
    "    for i in range(0, len(arr)):\n",
    "        if arr[i] == x:\n",
    "            print('Termination at arr[{}] = {} = x = {}'.format(i,arr[i],x), end='\\n')\n",
    "            return True\n",
    "        else:\n",
    "            print('Maintenance at arr[{}] = {} =! x = {}'.format(i,arr[i],x),end='\\n')\n",
    "    print('No Values = target x', end='\\n')\n",
    "    return False\n",
    "\n",
    "#linear_search(array,x)\n",
    "linear_search(array,y)"
   ]
  },
  {
   "cell_type": "code",
   "execution_count": null,
   "id": "40243d25-b947-4416-80a9-29853b77a78c",
   "metadata": {},
   "outputs": [],
   "source": []
  }
 ],
 "metadata": {
  "kernelspec": {
   "display_name": "Python 3",
   "language": "python",
   "name": "python3"
  },
  "language_info": {
   "codemirror_mode": {
    "name": "ipython",
    "version": 3
   },
   "file_extension": ".py",
   "mimetype": "text/x-python",
   "name": "python",
   "nbconvert_exporter": "python",
   "pygments_lexer": "ipython3",
   "version": "3.8.8"
  }
 },
 "nbformat": 4,
 "nbformat_minor": 5
}
