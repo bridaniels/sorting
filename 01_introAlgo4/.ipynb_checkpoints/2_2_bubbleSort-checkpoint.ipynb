{
 "cells": [
  {
   "cell_type": "markdown",
   "id": "d1bebb92-23c2-4cac-9897-79a4d5aa56c7",
   "metadata": {},
   "source": [
    "# **2-2 Correctness of Bubblesort**\n",
    "--- \n",
    "- works by repeatedly swapping adjacent elements that are out of order \n",
    "- sorts array `A[1:n]`"
   ]
  },
  {
   "cell_type": "code",
   "execution_count": 30,
   "id": "dd627f9d-d1e5-4a6a-9bae-af3d915b651b",
   "metadata": {},
   "outputs": [],
   "source": [
    "def bubbleSort(array):\n",
    "    n = len(array)-1\n",
    "    print(n,end='\\n')\n",
    "    for i in range(n):\n",
    "        for j in range(0,n-i):\n",
    "            if array[j] > array[j+1]:\n",
    "                array[j], array[j+1] = array[j+1], array[j]\n",
    "        print(i,j, array[:j], end='\\n')\n",
    "    return array "
   ]
  },
  {
   "cell_type": "code",
   "execution_count": 31,
   "id": "ea34684a-9e3b-4444-95c7-223e220a6863",
   "metadata": {},
   "outputs": [
    {
     "name": "stdout",
     "output_type": "stream",
     "text": [
      "14\n",
      "0 13 [5, 4, 5, 23, 55, 44, 12, 36, 45, 8, 19, 6, 7]\n",
      "1 12 [4, 5, 5, 23, 44, 12, 36, 45, 8, 19, 6, 7]\n",
      "2 11 [4, 5, 5, 23, 12, 36, 44, 8, 19, 6, 7]\n",
      "3 10 [4, 5, 5, 12, 23, 36, 8, 19, 6, 7]\n",
      "4 9 [4, 5, 5, 12, 23, 8, 19, 6, 7]\n",
      "5 8 [4, 5, 5, 12, 8, 19, 6, 7]\n",
      "6 7 [4, 5, 5, 8, 12, 6, 7]\n",
      "7 6 [4, 5, 5, 8, 6, 7]\n",
      "8 5 [4, 5, 5, 6, 7]\n",
      "9 4 [4, 5, 5, 6]\n",
      "10 3 [4, 5, 5]\n",
      "11 2 [4, 5]\n",
      "12 1 [4]\n",
      "13 0 []\n"
     ]
    },
    {
     "data": {
      "text/plain": [
       "[4, 5, 5, 6, 7, 8, 12, 14, 19, 23, 36, 44, 45, 55, 85]"
      ]
     },
     "execution_count": 31,
     "metadata": {},
     "output_type": "execute_result"
    }
   ],
   "source": [
    "array = [23,5,4,5,85,55,44,12,36,45,8,19,6,7,14]\n",
    "bubbleSort(array)"
   ]
  },
  {
   "cell_type": "markdown",
   "id": "bef8368e-32c3-463c-90b4-3fc807549c55",
   "metadata": {},
   "source": [
    "### 2-2.a: Prove Bubblesort Terminates and That `A'[1] <= A'[2] <=...<=A'[n]` via Loop Invariant\n",
    "---"
   ]
  },
  {
   "cell_type": "markdown",
   "id": "b83e2155-1406-4176-aaf1-4ae2ee986d30",
   "metadata": {},
   "source": [
    "- Precondition: \n",
    "    \n",
    "> - array has at least 1 element between indexes `i` and `j` where `i<=j`\n",
    "\n",
    "- Postcondition:\n",
    "    \n",
    "> - elements between `i` and `r` are fully sorted "
   ]
  },
  {
   "cell_type": "code",
   "execution_count": null,
   "id": "80a29020-f226-4b9f-9bf1-dcd0fd1cbe08",
   "metadata": {},
   "outputs": [],
   "source": []
  }
 ],
 "metadata": {
  "kernelspec": {
   "display_name": "Python 3",
   "language": "python",
   "name": "python3"
  },
  "language_info": {
   "codemirror_mode": {
    "name": "ipython",
    "version": 3
   },
   "file_extension": ".py",
   "mimetype": "text/x-python",
   "name": "python",
   "nbconvert_exporter": "python",
   "pygments_lexer": "ipython3",
   "version": "3.8.8"
  }
 },
 "nbformat": 4,
 "nbformat_minor": 5
}
