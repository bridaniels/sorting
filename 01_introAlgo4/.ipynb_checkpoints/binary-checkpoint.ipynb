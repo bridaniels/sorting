{
 "cells": [
  {
   "cell_type": "markdown",
   "id": "dd9f4756-4dfc-41d5-9d83-67ff71b0da09",
   "metadata": {},
   "source": [
    "# 2.1-5: Add Binary Integers\n",
    "---\n",
    "- Adding Two n-bit Binary Integers Stored in n-element arrays\n",
    "- sum c = a + b of the two integers should be stored in binary form in an (n+1) element array"
   ]
  },
  {
   "cell_type": "code",
   "execution_count": 7,
   "id": "f4309f36-cb67-46de-a262-f6e228f11185",
   "metadata": {},
   "outputs": [],
   "source": [
    "n = 6"
   ]
  },
  {
   "cell_type": "code",
   "execution_count": 8,
   "id": "ac8c7ef8-d1a2-4050-8557-cfa0dcf62a60",
   "metadata": {},
   "outputs": [
    {
     "name": "stdout",
     "output_type": "stream",
     "text": [
      "randintA:  [0, 0, 0, 0, 0, 0]\n",
      "randintB:  [1, 1, 1, 0, 1, 0]\n"
     ]
    }
   ],
   "source": [
    "# Create Random Bit Arrays\n",
    "from random import randint\n",
    "\n",
    "def add_binary_integers(n):\n",
    "    A = [0]*n\n",
    "    B = [0]*n\n",
    "    \n",
    "    for i in range(0,n):\n",
    "        A[i] = randint(0,1)\n",
    "        B[i] = randint(0,1)\n",
    "        \n",
    "    return A, B\n",
    "\n",
    "randA, randB = add_binary_integers(n)\n",
    "\n",
    "print('randintA: ', randA, end='\\n')\n",
    "print('randintB: ', randB, end='\\n')"
   ]
  },
  {
   "cell_type": "code",
   "execution_count": 9,
   "id": "a93b6762-7b82-4fb2-b4e8-ca1d4cc1faac",
   "metadata": {},
   "outputs": [
    {
     "name": "stdout",
     "output_type": "stream",
     "text": [
      "starting remainder: 0 at index: 5\n",
      "A remainder: 0 at index: 5\n",
      "B remainder: 0 at index: 5\n",
      "result from remainder: 0\n",
      "carry before continue on: 0\n",
      "starting remainder: 0 at index: 4\n",
      "A remainder: 0 at index: 4\n",
      "B remainder: 1 at index: 4\n",
      "result from remainder: 0\n",
      "carry before continue on: 0\n",
      "starting remainder: 0 at index: 3\n",
      "A remainder: 0 at index: 3\n",
      "B remainder: 0 at index: 3\n",
      "result from remainder: 0\n",
      "carry before continue on: 0\n",
      "starting remainder: 0 at index: 2\n",
      "A remainder: 0 at index: 2\n",
      "B remainder: 1 at index: 2\n",
      "result from remainder: 0\n",
      "carry before continue on: 0\n",
      "starting remainder: 0 at index: 1\n",
      "A remainder: 0 at index: 1\n",
      "B remainder: 1 at index: 1\n",
      "result from remainder: 0\n",
      "carry before continue on: 0\n",
      "starting remainder: 0 at index: 0\n",
      "A remainder: 0 at index: 0\n",
      "B remainder: 1 at index: 0\n",
      "result from remainder: 0\n",
      "carry before continue on: 0\n"
     ]
    },
    {
     "data": {
      "text/plain": [
       "[1, 1, 1, 0, 1, 0]"
      ]
     },
     "execution_count": 9,
     "metadata": {},
     "output_type": "execute_result"
    }
   ],
   "source": [
    "def addition(a,b,n):\n",
    "    carry = 0\n",
    "    res = 0 \n",
    "    answer = [0]*(n)\n",
    "    \n",
    "    for i in range(n-1, -1, -1):\n",
    "        remainder = carry\n",
    "        print('starting remainder: {} at index: {}'.format(remainder,i), end='\\n')\n",
    "        remainder += 1 if a[i] == 1 else 0 \n",
    "        print('A remainder: {} at index: {}'.format(remainder,i), end='\\n')\n",
    "        remainder += 1 if b[i] == 1 else 0 \n",
    "        print('B remainder: {} at index: {}'.format(remainder,i), end='\\n')\n",
    "        \n",
    "        answer[i] = 1 if remainder % 2 == 1 else 0\n",
    "        print('result from remainder: {}'.format(res), end='\\n')\n",
    "        carry = 0 if remainder < 2 else 1\n",
    "        print('carry before continue on: {}'.format(carry), end='\\n')\n",
    "    \n",
    "    if carry != 0:\n",
    "        answer[i] = 1 \n",
    "    \n",
    "    return answer\n",
    "\n",
    "addition(randA, randB, n)"
   ]
  },
  {
   "cell_type": "code",
   "execution_count": 10,
   "id": "01a52048-31d3-4c27-92ac-27a2cf76611c",
   "metadata": {},
   "outputs": [
    {
     "name": "stdout",
     "output_type": "stream",
     "text": [
      "000000\n",
      "111010\n",
      "------\n",
      "111010\n"
     ]
    }
   ],
   "source": [
    "randya = ''.join(str(x) for x in randA)\n",
    "randyb = ''.join(str(x) for x in randB)\n",
    "\n",
    "pythonic = bin(int(randya,2) + int(randyb,2))\n",
    "\n",
    "print(randya)\n",
    "print(randyb)\n",
    "print('------')\n",
    "print(pythonic[2:])"
   ]
  },
  {
   "cell_type": "code",
   "execution_count": null,
   "id": "54920e96-9a02-407e-8f4f-6d6e8a910c2c",
   "metadata": {},
   "outputs": [],
   "source": []
  }
 ],
 "metadata": {
  "kernelspec": {
   "display_name": "Python 3",
   "language": "python",
   "name": "python3"
  },
  "language_info": {
   "codemirror_mode": {
    "name": "ipython",
    "version": 3
   },
   "file_extension": ".py",
   "mimetype": "text/x-python",
   "name": "python",
   "nbconvert_exporter": "python",
   "pygments_lexer": "ipython3",
   "version": "3.8.8"
  }
 },
 "nbformat": 4,
 "nbformat_minor": 5
}
