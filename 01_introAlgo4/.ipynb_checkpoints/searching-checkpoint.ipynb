{
 "cells": [
  {
   "cell_type": "markdown",
   "id": "ac4fe369-2dad-43f7-8f4a-e4d89f5e9e54",
   "metadata": {},
   "source": [
    "# Searching - make another repo"
   ]
  },
  {
   "cell_type": "markdown",
   "id": "b43770ca-d433-43bd-b842-9f0bbb171bc6",
   "metadata": {},
   "source": [
    "## 2.1-4: Linear Search \n",
    "---"
   ]
  },
  {
   "cell_type": "code",
   "execution_count": 2,
   "id": "903cf5dd-c8a0-4b33-a70c-f05abd792464",
   "metadata": {},
   "outputs": [
    {
     "name": "stdout",
     "output_type": "stream",
     "text": [
      "Initialization at X:  99\n",
      "Maintenance at arr[0] = 31 =! x = 99\n",
      "Maintenance at arr[1] = 41 =! x = 99\n",
      "Maintenance at arr[2] = 59 =! x = 99\n",
      "Maintenance at arr[3] = 26 =! x = 99\n",
      "Maintenance at arr[4] = 41 =! x = 99\n",
      "Maintenance at arr[5] = 58 =! x = 99\n",
      "No Values = target x\n"
     ]
    },
    {
     "data": {
      "text/plain": [
       "False"
      ]
     },
     "execution_count": 2,
     "metadata": {},
     "output_type": "execute_result"
    }
   ],
   "source": [
    "array = [31,41,59,26,41,58]\n",
    "x = 41\n",
    "y = 99\n",
    "\n",
    "def linear_search(arr, x):\n",
    "    print('Initialization at X: ', x, end='\\n')\n",
    "    for i in range(0, len(arr)):\n",
    "        if arr[i] == x:\n",
    "            print('Termination at arr[{}] = {} = x = {}'.format(i,arr[i],x), end='\\n')\n",
    "            return True\n",
    "        else:\n",
    "            print('Maintenance at arr[{}] = {} =! x = {}'.format(i,arr[i],x),end='\\n')\n",
    "    print('No Values = target x', end='\\n')\n",
    "    return False\n",
    "\n",
    "#linear_search(array,x)\n",
    "linear_search(array,y)"
   ]
  },
  {
   "cell_type": "markdown",
   "id": "b1e84b8b-18da-41af-b732-f8fc0c60a47e",
   "metadata": {},
   "source": [
    "# 2.2-3: Linear Search's Average-Case vs. Worst-Case\n",
    "---\n",
    "- How many elements of the input array need to be checked on the average assuming element being searched for is equally liekly to be any element in the array?\n",
    "    - On average half the elements are likely to either be in the front or back. \n",
    "- Average-Case: `O(n)` \n",
    "    - element being searched somewhere in the middle of the array \n",
    "- Worst-Case: `O(n)` \n",
    "    - success in `n` comparisons or failure\n",
    "    - may be the last position or not in the array at all "
   ]
  },
  {
   "cell_type": "code",
   "execution_count": null,
   "id": "b78a3afa-b536-4199-9d0b-3b56fed9a5b7",
   "metadata": {},
   "outputs": [],
   "source": []
  }
 ],
 "metadata": {
  "kernelspec": {
   "display_name": "Python 3",
   "language": "python",
   "name": "python3"
  },
  "language_info": {
   "codemirror_mode": {
    "name": "ipython",
    "version": 3
   },
   "file_extension": ".py",
   "mimetype": "text/x-python",
   "name": "python",
   "nbconvert_exporter": "python",
   "pygments_lexer": "ipython3",
   "version": "3.8.8"
  }
 },
 "nbformat": 4,
 "nbformat_minor": 5
}
