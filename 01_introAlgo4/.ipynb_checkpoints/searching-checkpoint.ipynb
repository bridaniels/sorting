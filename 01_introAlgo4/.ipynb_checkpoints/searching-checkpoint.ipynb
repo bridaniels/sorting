{
 "cells": [
  {
   "cell_type": "markdown",
   "id": "ac4fe369-2dad-43f7-8f4a-e4d89f5e9e54",
   "metadata": {},
   "source": [
    "# Searching - make another repo"
   ]
  },
  {
   "cell_type": "markdown",
   "id": "b43770ca-d433-43bd-b842-9f0bbb171bc6",
   "metadata": {},
   "source": [
    "## 2.1-4: Linear Search \n",
    "---"
   ]
  },
  {
   "cell_type": "code",
   "execution_count": 2,
   "id": "903cf5dd-c8a0-4b33-a70c-f05abd792464",
   "metadata": {},
   "outputs": [
    {
     "name": "stdout",
     "output_type": "stream",
     "text": [
      "Initialization at X:  99\n",
      "Maintenance at arr[0] = 31 =! x = 99\n",
      "Maintenance at arr[1] = 41 =! x = 99\n",
      "Maintenance at arr[2] = 59 =! x = 99\n",
      "Maintenance at arr[3] = 26 =! x = 99\n",
      "Maintenance at arr[4] = 41 =! x = 99\n",
      "Maintenance at arr[5] = 58 =! x = 99\n",
      "No Values = target x\n"
     ]
    },
    {
     "data": {
      "text/plain": [
       "False"
      ]
     },
     "execution_count": 2,
     "metadata": {},
     "output_type": "execute_result"
    }
   ],
   "source": [
    "array = [31,41,59,26,41,58]\n",
    "x = 41\n",
    "y = 99\n",
    "\n",
    "def linear_search(arr, x):\n",
    "    print('Initialization at X: ', x, end='\\n')\n",
    "    for i in range(0, len(arr)):\n",
    "        if arr[i] == x:\n",
    "            print('Termination at arr[{}] = {} = x = {}'.format(i,arr[i],x), end='\\n')\n",
    "            return True\n",
    "        else:\n",
    "            print('Maintenance at arr[{}] = {} =! x = {}'.format(i,arr[i],x),end='\\n')\n",
    "    print('No Values = target x', end='\\n')\n",
    "    return False\n",
    "\n",
    "#linear_search(array,x)\n",
    "linear_search(array,y)"
   ]
  },
  {
   "cell_type": "markdown",
   "id": "b1e84b8b-18da-41af-b732-f8fc0c60a47e",
   "metadata": {},
   "source": [
    "# 2.2-3: Linear Search's Average-Case vs. Worst-Case\n",
    "---\n",
    "- How many elements of the input array need to be checked on the average assuming element being searched for is equally liekly to be any element in the array?\n",
    "    - On average half the elements are likely to either be in the front or back. \n",
    "- Average-Case: `O(n)` \n",
    "    - element being searched somewhere in the middle of the array \n",
    "- Worst-Case: `O(n)` \n",
    "    - success in `n` comparisons or failure\n",
    "    - may be the last position or not in the array at all "
   ]
  },
  {
   "cell_type": "markdown",
   "id": "2e32e37a-5c2f-47b6-9f31-d03f1d3d869e",
   "metadata": {},
   "source": [
    "## 2.3-6: Subarry Being Searched Already Sorted -> Via Binary Search -> Argue Worst-Cose running time is `O(lg n)`\n",
    "---\n",
    "- searching algo can check the midpoint of the subarray against `v` and elimate half from further consideration "
   ]
  },
  {
   "cell_type": "code",
   "execution_count": 10,
   "id": "ed1a4ebd-863d-48eb-9163-7c32e1f4b038",
   "metadata": {},
   "outputs": [
    {
     "name": "stdout",
     "output_type": "stream",
     "text": [
      "6\n",
      "Element not present in the array\n"
     ]
    }
   ],
   "source": [
    "# recursive\n",
    "# Decrease and Conquer \n",
    "sorted_array = [2,3,4,5,6,7,8,9,10]\n",
    "\n",
    "def binary_recursive(arr, low, high, v): \n",
    "    if high >= low: \n",
    "        \n",
    "        mid = low + (high-low)//2\n",
    "        if arr[mid] == v:\n",
    "            return mid \n",
    "        \n",
    "        elif arr[mid] > v:\n",
    "            return binary_recursive(arr, low, mid-1, v)\n",
    "        else:\n",
    "            return binary_recursive(arr, mid+1, high, v)\n",
    "    \n",
    "    else:\n",
    "        return 'Element not present in the array'\n",
    "    \n",
    "print(binary_recursive(sorted_array, 0, len(sorted_array)-1, 8))\n",
    "print(binary_recursive(sorted_array, 0, len(sorted_array)-1, 1))"
   ]
  },
  {
   "cell_type": "code",
   "execution_count": 12,
   "id": "a4f700a8-3e99-4c1a-9621-bf33c5f139a3",
   "metadata": {},
   "outputs": [
    {
     "name": "stdout",
     "output_type": "stream",
     "text": [
      "6\n",
      "Element not present in the array\n"
     ]
    }
   ],
   "source": [
    "# Iterative \n",
    "# Decrease and Conquer \n",
    "sorted_array = [2,3,4,5,6,7,8,9,10]\n",
    "\n",
    "def binary_recursive(arr, v): \n",
    "    low = 0\n",
    "    high = len(arr)-1\n",
    "    \n",
    "    while low <= high:\n",
    "        mid = low + (high-low)//2\n",
    "        \n",
    "        if arr[mid] == v:\n",
    "            return mid \n",
    "        elif v < arr[mid]:\n",
    "            high = mid - 1\n",
    "        else: \n",
    "            low = mid + 1\n",
    "    return 'Element not present in the array'\n",
    "    \n",
    "print(binary_recursive(sorted_array, 8))\n",
    "print(binary_recursive(sorted_array, 1))"
   ]
  },
  {
   "cell_type": "markdown",
   "id": "08d96b38-97fc-47ca-8343-385e43a97873",
   "metadata": {},
   "source": [
    "##### Worst-Case Running Time: `O(lg n)`\n",
    "- halving data processed each time \n",
    "- Recursive: Space `O(lg n)` because of stack \n",
    "- Iterative: Space `O(1)`"
   ]
  },
  {
   "cell_type": "code",
   "execution_count": null,
   "id": "50949bd2-59cb-4aba-91e4-e0870a701efb",
   "metadata": {},
   "outputs": [],
   "source": []
  }
 ],
 "metadata": {
  "kernelspec": {
   "display_name": "Python 3",
   "language": "python",
   "name": "python3"
  },
  "language_info": {
   "codemirror_mode": {
    "name": "ipython",
    "version": 3
   },
   "file_extension": ".py",
   "mimetype": "text/x-python",
   "name": "python",
   "nbconvert_exporter": "python",
   "pygments_lexer": "ipython3",
   "version": "3.8.8"
  }
 },
 "nbformat": 4,
 "nbformat_minor": 5
}
