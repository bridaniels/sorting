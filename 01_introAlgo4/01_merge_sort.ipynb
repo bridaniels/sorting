{
 "cells": [
  {
   "cell_type": "markdown",
   "id": "7da14e20-d653-4ce3-8986-4db92d2a34af",
   "metadata": {},
   "source": [
    "# **Merge Sort**\n",
    "---"
   ]
  },
  {
   "cell_type": "markdown",
   "id": "e2a3a44b-26f0-4b0f-911b-27dca9555fdc",
   "metadata": {},
   "source": [
    "## Divide-and-Conquer Method: \n",
    "##### Recursive Structure:\n",
    "- 'Recurse' (call themselves) to solve the problem via subproblems \n",
    "- Problems broken into various subproblems similar to the original but smaller in size which makes them faster to compute \n",
    "    \n",
    "> Base Case:\n",
    "    > - small enough to solve without recrusing\n",
    "    \n",
    "> Recursive Case: \n",
    "    > - Divide: problem into subproblems \n",
    "    > - Conquer: solve subproblems via recursion \n",
    "    > - Combine: merge subproblem solutions for the original problem solution "
   ]
  },
  {
   "cell_type": "code",
   "execution_count": 9,
   "id": "abd9d1c5-93e5-4543-9acb-2ffb0d8ef270",
   "metadata": {},
   "outputs": [
    {
     "data": {
      "text/plain": [
       "[1, 2, 5, 5, 26, 35, 44, 45, 45, 65, 85, 92, 222]"
      ]
     },
     "execution_count": 9,
     "metadata": {},
     "output_type": "execute_result"
    }
   ],
   "source": [
    "array = [2,5,65,45,85,222,1,5,35,44,45,26,92]\n",
    "\n",
    "def merge_sort(arr):\n",
    "    \n",
    "    if len(arr) > 1: \n",
    "        mid = len(arr)//2\n",
    "        L = arr[:mid]\n",
    "        R = arr[mid:]\n",
    "        \n",
    "        merge_sort(L)\n",
    "        merge_sort(R)\n",
    "        \n",
    "        # initialize starting indexes \n",
    "        i = j = k = 0 \n",
    "        # add to final array whichever is shorter \n",
    "        while i < len(L) and j < len(R):\n",
    "            if L[i] < R[j]:\n",
    "                arr[k] = L[i]\n",
    "                i += 1\n",
    "            else:\n",
    "                arr[k] = R[j]\n",
    "                j += 1\n",
    "            k += 1\n",
    "        # catch last elements if one sublist is longer than the other \n",
    "        while i < len(L): \n",
    "            arr[k] = L[i] \n",
    "            i += 1\n",
    "            k += 1 \n",
    "        while j < len(R):\n",
    "            arr[k] = R[j]\n",
    "            j += 1\n",
    "            k += 1\n",
    "    return arr\n",
    "\n",
    "merge_sort(array)"
   ]
  },
  {
   "cell_type": "markdown",
   "id": "2751207e-7f59-4d6b-b1dc-ca57095e52e4",
   "metadata": {},
   "source": [
    "### Recurrence Equation or Recurrence:\n",
    "- overall running time on a problem of size `n` in terms of running time of the same algorithm on smaller inputs \n",
    "\n",
    "##### `T(n) = O(1) if n < n₀ else D(n) + aT(n/b) + C(n)`\n",
    "- Straightforward/simpliest for an array size `n` where `n < n₀` and `n₀ > 0` takes constant time at `O(1)`\n",
    "    - `O(1)` comes from ignoring the coefficient `c` of the factor `1` (aka `n⁰`) \n",
    "    - `O(n²)` comes from ignoring the coefficient `1/100` of the factor `n²`\n",
    "    - omit base case -> running time of an algorithm on an input of constant size is always constant \n",
    "- Divide: takes `D(n)` time to divide into subproblems \n",
    "    - `D(n) = O(1)` constant time \n",
    "    - Conquer: yields `a` subproblems with size `n/b` \n",
    "        - sake of simplicity ignoring floors and ceilings `b = 2` and `a = 2`\n",
    "        - takes `T(n/b)` to solve one subproblem\n",
    "        - takes `aT(n/b)` to solve all `a` subproblems\n",
    "- Combine: takes `C(n)` time to combine solutions of subproblems to the original\n",
    "\n",
    "##### `T(n) = 2T(n/2) + O(n)`\n",
    "- Recurison Tree math comes out to `T(n) = O(n log n)`\n",
    "- Master Theorem shows that `T(n) = O(n log n)`"
   ]
  },
  {
   "cell_type": "code",
   "execution_count": null,
   "id": "7490dcc6-127d-4d2f-916a-1dd75c6ee683",
   "metadata": {},
   "outputs": [],
   "source": []
  }
 ],
 "metadata": {
  "kernelspec": {
   "display_name": "Python 3",
   "language": "python",
   "name": "python3"
  },
  "language_info": {
   "codemirror_mode": {
    "name": "ipython",
    "version": 3
   },
   "file_extension": ".py",
   "mimetype": "text/x-python",
   "name": "python",
   "nbconvert_exporter": "python",
   "pygments_lexer": "ipython3",
   "version": "3.8.8"
  }
 },
 "nbformat": 4,
 "nbformat_minor": 5
}
