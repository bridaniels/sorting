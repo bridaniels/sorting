{
 "cells": [
  {
   "cell_type": "markdown",
   "id": "7da14e20-d653-4ce3-8986-4db92d2a34af",
   "metadata": {},
   "source": [
    "# **Merge Sort**\n",
    "---"
   ]
  },
  {
   "cell_type": "markdown",
   "id": "e2a3a44b-26f0-4b0f-911b-27dca9555fdc",
   "metadata": {},
   "source": [
    "## Divide-and-Conquer Method: \n",
    "##### Recursive Structure:\n",
    "- 'Recurse' (call themselves) to solve the problem via subproblems \n",
    "- Problems broken into various subproblems similar to the original but smaller in size which makes them faster to compute \n",
    "    \n",
    "> Base Case:\n",
    "    > - small enough to solve without recrusing\n",
    "    \n",
    "> Recursive Case: \n",
    "    > - Divide: problem into subproblems \n",
    "    > - Conquer: solve subproblems via recursion \n",
    "    > - Combine: merge subproblem solutions for the original problem solution "
   ]
  },
  {
   "cell_type": "code",
   "execution_count": 1,
   "id": "abd9d1c5-93e5-4543-9acb-2ffb0d8ef270",
   "metadata": {},
   "outputs": [
    {
     "data": {
      "text/plain": [
       "[1, 2, 5, 5, 26, 35, 44, 45, 45, 65, 85, 92, 222]"
      ]
     },
     "execution_count": 1,
     "metadata": {},
     "output_type": "execute_result"
    }
   ],
   "source": [
    "array = [2,5,65,45,85,222,1,5,35,44,45,26,92]\n",
    "\n",
    "def merge_sort(arr):\n",
    "    \n",
    "    if len(arr) > 1: \n",
    "        mid = len(arr)//2\n",
    "        L = arr[:mid]\n",
    "        R = arr[mid:]\n",
    "        \n",
    "        merge_sort(L)\n",
    "        merge_sort(R)\n",
    "        \n",
    "        # initialize starting indexes \n",
    "        i = j = k = 0 \n",
    "        # add to final array whichever is shorter \n",
    "        while i < len(L) and j < len(R):\n",
    "            if L[i] < R[j]:\n",
    "                arr[k] = L[i]\n",
    "                i += 1\n",
    "            else:\n",
    "                arr[k] = R[j]\n",
    "                j += 1\n",
    "            k += 1\n",
    "        # catch last elements if one sublist is longer than the other \n",
    "        while i < len(L): \n",
    "            arr[k] = L[i] \n",
    "            i += 1\n",
    "            k += 1 \n",
    "        while j < len(R):\n",
    "            arr[k] = R[j]\n",
    "            j += 1\n",
    "            k += 1\n",
    "    return arr\n",
    "\n",
    "merge_sort(array)"
   ]
  },
  {
   "cell_type": "markdown",
   "id": "2751207e-7f59-4d6b-b1dc-ca57095e52e4",
   "metadata": {},
   "source": [
    "### Recurrence Equation or Recurrence:\n",
    "- overall running time on a problem of size `n` in terms of running time of the same algorithm on smaller inputs \n",
    "\n",
    "##### `T(n) = O(1) if n < n₀ else D(n) + aT(n/b) + C(n)`\n",
    "- Straightforward/simpliest for an array size `n` where `n < n₀` and `n₀ > 0` takes constant time at `O(1)`\n",
    "    - `O(1)` comes from ignoring the coefficient `c` of the factor `1` (aka `n⁰`) \n",
    "    - `O(n²)` comes from ignoring the coefficient `1/100` of the factor `n²`\n",
    "    - omit base case -> running time of an algorithm on an input of constant size is always constant \n",
    "- Divide: takes `D(n)` time to divide into subproblems \n",
    "    - `D(n) = O(1)` constant time \n",
    "    - Conquer: yields `a` subproblems with size `n/b` \n",
    "        - sake of simplicity ignoring floors and ceilings `b = 2` and `a = 2`\n",
    "        - takes `T(n/b)` to solve one subproblem\n",
    "        - takes `aT(n/b)` to solve all `a` subproblems\n",
    "- Combine: takes `C(n)` time to combine solutions of subproblems to the original\n",
    "\n",
    "##### `T(n) = 2T(n/2) + O(n)`\n",
    "- Recurison Tree math comes out to `T(n) = O(n log n)`\n",
    "- Master Theorem shows that `T(n) = O(n log n)`"
   ]
  },
  {
   "cell_type": "markdown",
   "id": "8d6abb4e-9a04-4366-bc11-dfc8893695a7",
   "metadata": {},
   "source": [
    "### 2.3-1: Divide and Conquer \n",
    "---"
   ]
  },
  {
   "cell_type": "code",
   "execution_count": 2,
   "id": "1bc9acd8-bf55-4204-891b-b3f09980c052",
   "metadata": {},
   "outputs": [],
   "source": [
    "def divide(arr): \n",
    "    if len(arr) > 1:\n",
    "        mid = len(arr)//2\n",
    "        left_arr = arr[:mid]\n",
    "        right_arr = arr[mid:]\n",
    "        return left_arr, right_arr\n",
    "    else: \n",
    "        return 'MERGE TIME'"
   ]
  },
  {
   "cell_type": "code",
   "execution_count": 3,
   "id": "34b1c2c0-5d45-48d1-842f-5c0afa2715f7",
   "metadata": {},
   "outputs": [],
   "source": [
    "def conquer(left,right):\n",
    "    arr = [0] * (len(left) + len(right)) # Added for breakdown \n",
    "    i = j = k = 0\n",
    "    while i < len(left) and j < len(right): \n",
    "        if left[i] < right[j]:\n",
    "            arr[k] = left[i]\n",
    "            i += 1\n",
    "        else: \n",
    "            arr[k] = right[j]\n",
    "            j += 1\n",
    "        k += 1\n",
    "        \n",
    "    while i < len(left):\n",
    "        arr[k] = left[i]\n",
    "        i += 1\n",
    "        k += 1\n",
    "    while j < len(right):\n",
    "        arr[k] = right[j]\n",
    "        j += 1\n",
    "        k += 1\n",
    "    return arr"
   ]
  },
  {
   "cell_type": "code",
   "execution_count": 4,
   "id": "50a43332-0556-424d-a9f5-65e6f4db0148",
   "metadata": {},
   "outputs": [],
   "source": [
    "# Divide \n",
    "array = [3,41,52,26,38,57,9,49]\n",
    "        \n",
    "split_1a, split_1b = divide(array)\n",
    "\n",
    "# Left\n",
    "split_1aA, split_1aB = divide(split_1a)\n",
    "split_1aAA, split_1aAB = divide(split_1aA)\n",
    "split_1aBa, split_1aBb = divide(split_1aB)\n",
    "\n",
    "final_1aAA = divide(split_1aAA)\n",
    "final_1aAB = divide(split_1aAB)\n",
    "final_1aBa = divide(split_1aBa)\n",
    "final_1aBb = divide(split_1aBb)\n",
    "\n",
    "# Right\n",
    "split_1bA, split_1bB = divide(split_1b)\n",
    "split_1bAa, split_1bAb = divide(split_1bA)\n",
    "split_1bBa, split_1bBb = divide(split_1bB)\n",
    "\n",
    "final_1bAa = divide(split_1bAa)\n",
    "final_1bAb = divide(split_1bAb)\n",
    "final_1bBa = divide(split_1bBa)\n",
    "final_1bBb = divide(split_1bBb)"
   ]
  },
  {
   "cell_type": "code",
   "execution_count": 5,
   "id": "a976596d-fbad-4ac8-bd47-7c13f85ca632",
   "metadata": {},
   "outputs": [],
   "source": [
    "# Conquer \n",
    "\n",
    "# Left\n",
    "aA_AB= conquer(split_1aAA, split_1aAB)\n",
    "aB_ab = conquer(split_1aBa, split_1aBb)\n",
    "aB = conquer(aA_AB,aB_ab)\n",
    "\n",
    "# Right \n",
    "bA_ab = conquer(split_1bAa, split_1bAb)\n",
    "bB_ab = conquer(split_1bBa, split_1bBb)\n",
    "bB = conquer(bA_ab, bB_ab)\n",
    "\n",
    "final_ab = conquer(aB, bB)"
   ]
  },
  {
   "cell_type": "code",
   "execution_count": 6,
   "id": "f894a47b-fcf5-4450-b388-c6d035e361e3",
   "metadata": {},
   "outputs": [
    {
     "name": "stdout",
     "output_type": "stream",
     "text": [
      "DIVIDE\n",
      "Left:  [3, 41, 52, 26]     Right:  [38, 57, 9, 49]\n",
      "Left:  [3, 41] [52, 26]    Right:  [38, 57] [9, 49]\n",
      "Left:  [3] [41] [52] [26]  Right:  [38] [57] [9] [49]\n",
      "MERGE TIME MERGE TIME MERGE TIME MERGE TIME MERGE TIME MERGE TIME MERGE TIME MERGE TIME\n",
      "CONQUER\n",
      "Left:  [3] [41] [52] [26]  Right:  [38] [57] [9] [49]\n",
      "Left:  [3, 41] [26, 52]    Right:  [38, 57] [9, 49]\n",
      "Left:  [3, 26, 41, 52]     Right:  [9, 38, 49, 57]\n",
      "\n",
      "\n",
      "Original Array: \n",
      " [3, 41, 52, 26, 38, 57, 9, 49]\n",
      "Final Merge Sort Result: \n",
      " [3, 9, 26, 38, 41, 49, 52, 57]\n"
     ]
    }
   ],
   "source": [
    "print('DIVIDE')\n",
    "print('Left: ', split_1a, '    Right: ',split_1b)\n",
    "print('Left: ', split_1aA, split_1aB, '   Right: ', split_1bA, split_1bB)\n",
    "print('Left: ', split_1aAA, split_1aAB, split_1aBa, split_1aBb, ' Right: ', split_1bAa, split_1bAb, split_1bBa, split_1bBb)\n",
    "print(final_1aAA, final_1aAB, final_1aBa, final_1aBb, final_1bAa,final_1bAb, final_1bBa, final_1bBb)\n",
    "print('CONQUER')\n",
    "print('Left: ', split_1aAA, split_1aAB, split_1aBa, split_1aBb, ' Right: ', split_1bAa, split_1bAb, split_1bBa, split_1bBb)\n",
    "print('Left: ', aA_AB, aB_ab, '   Right: ', bA_ab, bB_ab)\n",
    "print('Left: ', aB, '    Right: ', bB)\n",
    "print('\\n')\n",
    "print('Original Array: \\n', array)\n",
    "print('Final Merge Sort Result: \\n', final_ab)"
   ]
  },
  {
   "cell_type": "markdown",
   "id": "f4dcc06d-046b-47dc-b2fb-f9d25d053508",
   "metadata": {},
   "source": [
    "### 2.3-2:  Test Line 1 `if p >= r`\n",
    "---\n",
    "- `if p >= r` rather than `if p =! r`\n",
    "- if called with `p>r` and subarray `A[p:r]` is empty, as long as `n >= 1` the test `if p =! r` suffices to ensure no recursive call has `p > 4` "
   ]
  },
  {
   "cell_type": "code",
   "execution_count": 9,
   "id": "5fb45dde-260b-4fb5-9d01-e9b4a285078f",
   "metadata": {},
   "outputs": [],
   "source": [
    "# n = right-left+1\n",
    "# As long as initial call has `n >= 1` the loop will terminate when `left=right`\n",
    "# p = left\n",
    "# r = right\n",
    "# q = mid\n",
    "def recursive_Msort(arr, left, right):\n",
    "    if left >= right:\n",
    "        return \n",
    "    mid = (left+right)/2\n",
    "    recursive_Msort(arr, left, mid)\n",
    "    recursive_Msort(arr, mid+1, right)\n",
    "    \n",
    "    def merge(arr, left, mid, right):\n",
    "        return bob "
   ]
  },
  {
   "cell_type": "markdown",
   "id": "32cb0fb1-100f-4c24-a29a-298222bf34b5",
   "metadata": {},
   "source": [
    "### 2.3-3: Loop Invariant for While Loops of Merge Procedure \n",
    "---\n",
    "- Loop Invariant: loop property that holds before and after each iteration of a loop \n",
    "\n",
    "#### `array[p,k]` stores the `k-p+1` smallest elements of `Left` and `Right` subarrays sorted in increasing order "
   ]
  },
  {
   "cell_type": "markdown",
   "id": "f3dd1a13-6713-43ae-bcaf-49aebc687183",
   "metadata": {},
   "source": [
    "##### Precondition:\n",
    "> - array has at least 1 element between indexes `p` and `r` where `p<=r`\n",
    "\n",
    "##### Postcondition:\n",
    "> - elements between indexes `p` and `r` are sorted \n",
    "\n",
    "##### - Initialization: \n",
    "> - `k=p` so that subarray `array[p ... k-1]` is empty \n",
    "> - subarray contains `k - p = 0` smallest elements of Left and Right subarrays \n",
    "> `i = j = 0` so both `Left[i]` and `Right[j]` are smallest elements of their arrays \n",
    "\n",
    "##### - Maintenance: While Loops\n",
    "> - if `Left[i] <= Right[j]`, copies `Left[i]` into `array[k]` \n",
    "> - so now `array[p ... k]` contains the `k - p + 1` smallest elements \n",
    "> - incrementing in `k`, loop invariant property satisfied for `k+1`\n",
    "\n",
    "##### - Termination: \n",
    "> - when `k=r`, `array[p ... k]` which is `array[p ... r]` contains `k - p = r - p + 1` smallest sorted elements of `Left[1 ... n1 + 1]` and `Right[1 ... n2 + 1]`\n",
    "> - subarrays `Left` and `Right` contain `n1 + n2 + 2 = r - p + 3` elements \n",
    "> - All but two largest elements have been copied back into `array` and thest two largest elements are sentinels "
   ]
  },
  {
   "cell_type": "markdown",
   "id": "4e566c95-631e-42ba-b7cc-00f4b6d4fefb",
   "metadata": {},
   "source": [
    "### 2.3-4: Mathematical Induction to Show When `n >= 2` is an Exact Power of `2` the Solution of the Recurrence is `T(n) = n lg n`\n",
    "---"
   ]
  },
  {
   "cell_type": "markdown",
   "id": "6dea5855-a762-4c33-a0a4-e8dc3c57a8d0",
   "metadata": {},
   "source": [
    "#### `T(n) = 2` if `n = 2`\n",
    "#### `T(n) = 2T(n/2) + n` if `n > 2`\n",
    "\n",
    "##### Guess Solution is `T(n) = n lg n`: must prove that `T(n) <= cn lg n` for some constant `c` for all `n >= 1`\n",
    "\n",
    "##### Base Case: \n",
    "> - `T(n) = 2` and `n = 2` thus `T(2) = 2`\n",
    "> - `2 lg 2 = 2` thus `T(2) = 2 lg 2`\n",
    "> - asymptotic notation only requires us to prove statement for `n >= n₀` and we can set `n₀ = 2` \n",
    "\n",
    "##### Hypothesis:\n",
    "> - when `n` is an exact power of `2` -> `n = 2^k` for `k>1`\n",
    "> - Assume `T(n) = n lg n` is true\n",
    "\n",
    "##### Induction: \n",
    "> - if `n = 2^(k+1)`\n",
    "> - `2T(2^(k+1)/2) + 2(k+1)`\n",
    "> - `2T(2^k) + 2(k+1)` \n",
    ">      - `(2^(k+1))/2)` -> the 2's cancel out via the `+1` so you are left with `2^k`\n",
    "> - `2(2^k log 2^k) + 2^(k+1)`\n",
    ">      - assuming `T(n) = n lg n`\n",
    "> - `2^(k+1) * ((log2^k) + 1)`\n",
    ">      - pull the `2^k` out of the the `n lg n` to shorten \n",
    "> - `2^(k+1) * log2^(k+1)\n",
    "\n",
    "##### Substitution (ignoring exact power of 2): \n",
    "> - `T(2) = 2T(2/2)+2 = 2+2 = 4` \n",
    "> - `T(3) = 2T(3/2)+3 = 2*1.5+3 = 3+3 = 6`\n",
    "> - choose a `c` that satisfies those constraints\n",
    ">> - `c = 2` because `4 <= 2*2lg2` and `lg2 = 1` so `2*2*1 = 4`\n",
    ">> - `c = 2` because `6 <= 2*3lg3` and `lg3 = 1.58496` so `2*3*1.58496 = 9.5`\n",
    "\n",
    "##### Therefore `T(n) <= 2 nlgn` for all `n>=2` so `T(n) = O(n lg n)`"
   ]
  },
  {
   "cell_type": "code",
   "execution_count": null,
   "id": "bb14883f-8f89-4364-a3cc-6be77ca24617",
   "metadata": {},
   "outputs": [],
   "source": []
  }
 ],
 "metadata": {
  "kernelspec": {
   "display_name": "Python 3",
   "language": "python",
   "name": "python3"
  },
  "language_info": {
   "codemirror_mode": {
    "name": "ipython",
    "version": 3
   },
   "file_extension": ".py",
   "mimetype": "text/x-python",
   "name": "python",
   "nbconvert_exporter": "python",
   "pygments_lexer": "ipython3",
   "version": "3.8.8"
  }
 },
 "nbformat": 4,
 "nbformat_minor": 5
}
