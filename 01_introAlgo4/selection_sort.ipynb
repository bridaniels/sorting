{
 "cells": [
  {
   "cell_type": "markdown",
   "id": "16286d8b-2abd-4b8f-b473-f869dd0ceeb7",
   "metadata": {},
   "source": [
    "# **Selection Sort**\n",
    "---\n",
    "> - Sort `n` numbers stored in array `A[0:n-1]`\n",
    "> 1. Find smallest element of `A[0:n-1]` and replace it with element in `A[0]`\n",
    "> 2. Find smallest element of `A[1:n-1]` and replace it with element in `A[1]`\n",
    "> 3. Find smallest element of `A[2:n-1]` and replace it with element in `A[3]`...."
   ]
  },
  {
   "cell_type": "markdown",
   "id": "5fb86bc6-5cdf-4d24-8ca0-1c88e95a1b1a",
   "metadata": {},
   "source": [
    "# 2.2-2: Worst Case/Best Case Running Times\n",
    "---"
   ]
  },
  {
   "cell_type": "code",
   "execution_count": 12,
   "id": "c63eeedf-6bd3-4ca6-a280-0c46c2c27d5c",
   "metadata": {},
   "outputs": [
    {
     "name": "stdout",
     "output_type": "stream",
     "text": [
      "[2, 4, 12, 25, 33, 47, 56, 99]\n"
     ]
    }
   ],
   "source": [
    "# Best Case\n",
    "best_array = [0,2,6,11,15,24,36,68]\n",
    "# Worst Case\n",
    "worst_array = [99,56,47,33,25,12,2,4]\n",
    "\n",
    "def selection_sort(arr): \n",
    "    for i in range(len(arr)-1):\n",
    "        min_index = i \n",
    "        #print('Initial Element at index {}: {}'.format(i, arr[i]), end='\\n')\n",
    "        \n",
    "        for j in range(i+1,len(arr)):\n",
    "            #print('Initial Element at index {}: {}'.format(i,arr[min_index]), end='\\n')\n",
    "            #print('Element at Second Index {}: {}'.format(j,arr[j]), end='\\n')\n",
    "            if arr[min_index] > arr[j]:\n",
    "                min_index = j\n",
    "        \n",
    "        arr[i], arr[min_index] = arr[min_index], arr[i]\n",
    "        \n",
    "    return arr\n",
    "            \n",
    "            \n",
    "print(selection_sort(worst_array))\n",
    "# print(selection_sort(best_array))"
   ]
  },
  {
   "cell_type": "markdown",
   "id": "3fe3072b-9c09-424d-a0b7-61fffe719a69",
   "metadata": {},
   "source": [
    "#### Loop Invariant Maintained: \n",
    "- Condition that is true immediately before and immediately afer each iteration of a loop and the termination \n",
    "    - Initialization - Maintenance - Termination \n",
    "    - Outer Loop: array sorted for first `i` elements\n",
    "    - Inner Loop: `min_index` always the minimum value in `arr[i:j]`\n",
    "    \n",
    "#### Only Solves for `n-1` Elements Rather Than All `n` Elements\n",
    "- `j` in the inner loop checks the next element in the array -> grabs last element \n",
    "- would be an extra step if not `n-1`\n",
    "\n",
    "#### Time Complexity: O(n^2) \n",
    "- Two Nested Loops each running `n` times and performing `n` swaps \n",
    "- Because Best-Case and Worst-Case running times have to go through the same amount of iterations, there is not one that is better than the other. "
   ]
  },
  {
   "cell_type": "markdown",
   "id": "b5b96344-d1ae-4812-bb33-8b740215b2a6",
   "metadata": {},
   "source": [
    "## 3.1-2: Analyze Running Time of Selection Sort Algorithm \n",
    "---"
   ]
  },
  {
   "cell_type": "markdown",
   "id": "35e9c3f4-8ba3-422a-8db4-6182402248e5",
   "metadata": {},
   "source": [
    "- Outer Loop: executed `n` times \n",
    "- Inner Loop: executed `n-1` times for every `n` times the outer loop is executed \n",
    "    - Dominates the runtime vs. Outer Loop \n",
    "    - iterates a total of `n-i+1` times per outer loop iteration (+1 comes from indexing)\n",
    "    - sum expression over `i=1` to `i=n`\n",
    "    - becomes `n^2 - (n(n+1))/2 + n`\n",
    "    - simplified to `(1/2)n^2 + (1/2)n`\n",
    "    - which converts via asymptotic notation to `O(n^2)` "
   ]
  },
  {
   "cell_type": "code",
   "execution_count": null,
   "id": "0a982e14-a733-4747-9d80-f36e43589dc1",
   "metadata": {},
   "outputs": [],
   "source": []
  }
 ],
 "metadata": {
  "kernelspec": {
   "display_name": "Python 3",
   "language": "python",
   "name": "python3"
  },
  "language_info": {
   "codemirror_mode": {
    "name": "ipython",
    "version": 3
   },
   "file_extension": ".py",
   "mimetype": "text/x-python",
   "name": "python",
   "nbconvert_exporter": "python",
   "pygments_lexer": "ipython3",
   "version": "3.8.8"
  }
 },
 "nbformat": 4,
 "nbformat_minor": 5
}
