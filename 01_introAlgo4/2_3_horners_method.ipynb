{
 "cells": [
  {
   "cell_type": "markdown",
   "id": "0c856d87-526a-4d4b-a748-f24cf713ea15",
   "metadata": {},
   "source": [
    "# **2-3: Horner's Method**\n",
    "---\n",
    "- evaluation of a polynomail according to parenthesization \n",
    "- only `n` multiplications and `n` addtions \n",
    "- `p(x) = a0 + a1x + a2x^2 + ... + an-1x^n-1 + anx^n`\n",
    "    - `p(x) = a0 + x(a1 + x(a2 + ... + x(an-1 + xn)...))`"
   ]
  },
  {
   "cell_type": "code",
   "execution_count": 1,
   "id": "16da5d00-b5ff-4a10-8020-02f96508034e",
   "metadata": {},
   "outputs": [],
   "source": [
    "def horner(arr,x):\n",
    "    n = len(arr)\n",
    "    p = 0 \n",
    "    \n",
    "    for i in range(n):\n",
    "        p = arr[i] + x * p\n",
    "    return p"
   ]
  },
  {
   "cell_type": "code",
   "execution_count": 2,
   "id": "7659078a-a604-4ddb-92d5-bd4e09e89267",
   "metadata": {},
   "outputs": [
    {
     "name": "stdout",
     "output_type": "stream",
     "text": [
      "5\n",
      "23\n"
     ]
    }
   ],
   "source": [
    "# polynomial: 2x^3 - 6x^2 + 2x - 1 for x = 3\n",
    "poly = [2,-6,2,-1]\n",
    "px = 3 \n",
    "# polynomial: 2x^3 + 3x + 1 for x = 2 \n",
    "polynomail = [2,0,3,1]\n",
    "x = 2\n",
    "\n",
    "print(horner(poly, px))\n",
    "print(horner(polynomail,x))"
   ]
  },
  {
   "cell_type": "markdown",
   "id": "fef7f7b1-7399-41d6-a6cd-f9cfec9f3a5b",
   "metadata": {},
   "source": [
    "### 2-3.a: Theta Notation \n",
    "---"
   ]
  },
  {
   "cell_type": "markdown",
   "id": "fd548fb4-946b-452f-b2cb-155511834f68",
   "metadata": {},
   "source": [
    "- Runs loop for all the elements always \n",
    "- Never more or less -> `Theta(n)` runtime "
   ]
  },
  {
   "cell_type": "markdown",
   "id": "184be08c-0d9f-44cc-bc84-19e0c556d51d",
   "metadata": {},
   "source": [
    "### 2-3.b: Pseudocode\n",
    "---\n",
    "> Horner(polynomial_array, x_value)\n",
    "> 1.    result = polynomial_array[0]\n",
    "> 2.    for i in range(len(polynomial_array)):\n",
    "> 3.       result = result + polynomial_array[i] * x**i\n",
    "> 4.    return result\n",
    "\n",
    "- touches each eleement in array once \n",
    "- Runtime: `Theta(n)` same as Horner's Which Runs `Theta(n)`"
   ]
  },
  {
   "cell_type": "code",
   "execution_count": 3,
   "id": "29414929-cd4d-4e9c-ade6-bb3778952571",
   "metadata": {},
   "outputs": [],
   "source": [
    "# backwards polynomials this time \n",
    "coefficient = [-1,2,-6,2]\n",
    "coex = 3\n",
    "coeff = [1,3,0,2]\n",
    "coef = 2"
   ]
  },
  {
   "cell_type": "code",
   "execution_count": 4,
   "id": "da2284d1-9564-4ec9-8838-37ac7d7ae6b8",
   "metadata": {},
   "outputs": [],
   "source": [
    "def pesudo(arr,x):\n",
    "    result = arr[0]\n",
    "    for i in range(1,len(arr)):\n",
    "        result = result  + arr[i] * x**i\n",
    "    return result "
   ]
  },
  {
   "cell_type": "code",
   "execution_count": 5,
   "id": "ea4f0989-41d8-4654-9957-abdaf951c898",
   "metadata": {},
   "outputs": [
    {
     "name": "stdout",
     "output_type": "stream",
     "text": [
      "5\n",
      "23\n"
     ]
    }
   ],
   "source": [
    "print(pesudo(coefficient, coex))\n",
    "print(pesudo(coeff,coef))"
   ]
  },
  {
   "cell_type": "markdown",
   "id": "ce1fae69-0b31-4a2f-b6cb-6ba8fe2be74a",
   "metadata": {},
   "source": [
    "### 2-3.c: Loop Invariant \n",
    "---\n",
    "- `p = sum(arr[k+i+1] * x^k)`\n",
    "- Interpret Summation with NO TERMS equaling `0` \n",
    "- show via loop invariant that termination `k = 0` "
   ]
  },
  {
   "cell_type": "code",
   "execution_count": 6,
   "id": "d44888a6-c9dc-4b47-8fd7-de5d93858c5b",
   "metadata": {},
   "outputs": [],
   "source": [
    "def evaluate(arr,x):\n",
    "    result = 0 \n",
    "    for i in range(len(arr)-1,-1,-1):\n",
    "        result = arr[i] + x * result\n",
    "    return result"
   ]
  },
  {
   "cell_type": "code",
   "execution_count": 7,
   "id": "3dd1ec98-48ca-41a8-a716-f214cff5aba1",
   "metadata": {},
   "outputs": [
    {
     "name": "stdout",
     "output_type": "stream",
     "text": [
      "5\n",
      "23\n"
     ]
    }
   ],
   "source": [
    "print(evaluate(coefficient, coex))\n",
    "print(evaluate(coeff,coef))"
   ]
  },
  {
   "cell_type": "code",
   "execution_count": 8,
   "id": "984f9fd3-7882-4f20-82ce-50b75dbc9ca3",
   "metadata": {},
   "outputs": [],
   "source": [
    "def result(arr,x):\n",
    "    result = arr[-1]\n",
    "    for i in range(-2,-len(arr)-1,-1):\n",
    "        result = result * x + arr[i]\n",
    "    return result"
   ]
  },
  {
   "cell_type": "code",
   "execution_count": 9,
   "id": "b03ac223-c91a-4433-b7a8-d37fedef149c",
   "metadata": {},
   "outputs": [
    {
     "name": "stdout",
     "output_type": "stream",
     "text": [
      "5\n",
      "23\n"
     ]
    }
   ],
   "source": [
    "print(result(coefficient, coex))\n",
    "print(result(coeff,coef))"
   ]
  },
  {
   "cell_type": "markdown",
   "id": "05729ba1-e5b3-4466-95cb-08b6b63f5b03",
   "metadata": {},
   "source": [
    "#### Induction \n",
    "\n",
    "> start of first iteration -> `result = 0` \n",
    "> no terms in the summation \n",
    "\n",
    "#### Maintenance:\n",
    "    \n",
    "> for any `0<=i<n` a the start of the iteration, result = sum of `n-(i+1)` values\n",
    "> `a(k+i+1)x^k`\n",
    "> after *ith* iteration `i = i-1` prove result = sum of `n-((i-1)+1)` values \n",
    "> `a(k+(i-1)+1)x^k`\n",
    "\n",
    "#### Termination:\n",
    "    \n",
    "> `i = -1` thus `a(k+i-1)x^k` is `a(k-1-1)x^k` which is `ak(x^k)`"
   ]
  },
  {
   "cell_type": "code",
   "execution_count": null,
   "id": "8306e645-0b1a-49ff-b4d2-0bcab04680e3",
   "metadata": {},
   "outputs": [],
   "source": []
  },
  {
   "cell_type": "code",
   "execution_count": null,
   "id": "1210c263-6ebe-4035-93f6-4fa82c4d05e1",
   "metadata": {},
   "outputs": [],
   "source": []
  }
 ],
 "metadata": {
  "kernelspec": {
   "display_name": "Python 3",
   "language": "python",
   "name": "python3"
  },
  "language_info": {
   "codemirror_mode": {
    "name": "ipython",
    "version": 3
   },
   "file_extension": ".py",
   "mimetype": "text/x-python",
   "name": "python",
   "nbconvert_exporter": "python",
   "pygments_lexer": "ipython3",
   "version": "3.8.8"
  }
 },
 "nbformat": 4,
 "nbformat_minor": 5
}
